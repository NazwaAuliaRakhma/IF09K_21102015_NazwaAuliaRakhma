{
  "nbformat": 4,
  "nbformat_minor": 0,
  "metadata": {
    "colab": {
      "provenance": []
    },
    "kernelspec": {
      "name": "python3",
      "display_name": "Python 3"
    },
    "language_info": {
      "name": "python"
    }
  },
  "cells": [
    {
      "cell_type": "code",
      "source": [
        "#Proyek Greedy dengan Bahasa Python\n",
        "#Nazwa Aulia Rakhma\n",
        "#21102015\n",
        "#IF-09-K\n",
        "import time #Library untuk menampilkan waktu\n",
        "\n",
        "def JadwalProyekGreedy(aktivitas, durasi, ketergantungan):\n",
        "    aktivitasSudah = []  #menyimpan aktivitas yang sudah terjadwal\n",
        "    aktivitasBelum = aktivitas[:]  #menyimpan aktivitas yang belum terjadwal\n",
        "\n",
        "    waktuMulai = time.time()  #catat waktu mulai\n",
        "\n",
        "    while aktivitasBelum:\n",
        "        waktuTerpendek = float('inf')\n",
        "        aktivitasTerpilih = None\n",
        "\n",
        "        #Memeriksa apakah aktivitas memiliki ketergantungan tidak\n",
        "        for aktivitas in aktivitasBelum:\n",
        "            if aktivitas not in ketergantungan or all(dep in aktivitasSudah for dep in ketergantungan[aktivitas]):\n",
        "                if durasi[aktivitas] < waktuTerpendek:\n",
        "                    waktuTerpendek = durasi[aktivitas]\n",
        "                    aktivitasTerpilih = aktivitas\n",
        "\n",
        "        #Tambahkan aktivitas terpilih ke dalam aktivitas yang sudah terjadwal\n",
        "        aktivitasSudah.append(aktivitasTerpilih)\n",
        "\n",
        "        #Hapus aktivitas terpilih dari aktivitas yang belum terjadwal\n",
        "        aktivitasBelum.remove(aktivitasTerpilih)\n",
        "\n",
        "    waktuSelesai = time.time()  #catat waktu selesai\n",
        "    lamaEksekusi = waktuSelesai - waktuMulai  #lama waktu eksekusi\n",
        "\n",
        "    return aktivitasSudah, lamaEksekusi\n",
        "\n",
        "#Inisialisasi data aktivitas, durasi dan ketergantungan\n",
        "aktivitas = ['A', 'B', 'C', 'D', 'E', 'F', 'G', 'H']\n",
        "durasi = {'A': 4, 'B': 5, 'C': 2, 'D': 3, 'E': 6, 'F': 4, 'G': 2, 'H': 3}\n",
        "ketergantungan = {'B': ['A'], 'C': ['A'], 'D': ['B', 'C'], 'E': ['D'], 'F': ['D'], 'G': ['F'], 'H': ['E', 'G']}\n",
        "\n",
        "#Panggil fungsi JadwalProyekGreedy untuk mendapatkan jadwal penyelesaian proyek dan lama waktu eksekusi\n",
        "aktivitasSudah, lamaEksekusi = JadwalProyekGreedy(aktivitas, durasi, ketergantungan)\n",
        "\n",
        "#Tampilkan hasil jadwal penyelesaian proyek dan lama waktu eksekusi\n",
        "print(\"Jadwal Penyelesaian Proyek Greedy:\")\n",
        "print(aktivitasSudah)\n",
        "print(\"Lama waktu eksekusi:\", lamaEksekusi, \"detik\")\n"
      ],
      "metadata": {
        "colab": {
          "base_uri": "https://localhost:8080/"
        },
        "id": "-begrRgM6_Qx",
        "outputId": "2f23e963-9d9a-4875-fddd-b161da505dd1"
      },
      "execution_count": null,
      "outputs": [
        {
          "output_type": "stream",
          "name": "stdout",
          "text": [
            "Jadwal Penyelesaian Proyek Greedy:\n",
            "['A', 'C', 'B', 'D', 'F', 'G', 'E', 'H']\n",
            "Lama waktu eksekusi: 4.3392181396484375e-05 detik\n"
          ]
        }
      ]
    },
    {
      "cell_type": "code",
      "source": [
        "# Proyek Branch and Bound\n",
        "# Nazwa Aulia Rakhma\n",
        "# 21102015\n",
        "# IF-09-K\n",
        "import time  # Library untuk menampilkan waktu\n",
        "\n",
        "def JadwalProyekBB(aktivitas, durasi, ketergantungan):\n",
        "    def backtracking(jadwalSekarang, aktivitasLain):  # Lainnya dalam artian sisa dari aktivitas\n",
        "        nonlocal jadwalTerbaik\n",
        "\n",
        "        # Jika semua aktivitas telah ditempatkan pada jadwal\n",
        "        if not aktivitasLain:\n",
        "            if not jadwalTerbaik or totalDurasi(jadwalSekarang) < totalDurasi(jadwalTerbaik):\n",
        "                jadwalTerbaik = jadwalSekarang\n",
        "            return\n",
        "\n",
        "        for aktivitas in aktivitasLain:\n",
        "            if aktivitas not in ketergantungan or all(dep in jadwalSekarang for dep in ketergantungan[aktivitas]):\n",
        "                jadwalBaru = jadwalSekarang + [aktivitas]\n",
        "                sisaAktBaru = aktivitasLain[:]\n",
        "                sisaAktBaru.remove(aktivitas)\n",
        "                backtracking(jadwalBaru, sisaAktBaru)\n",
        "\n",
        "    def totalDurasi(jadwal):\n",
        "        total = 0\n",
        "        for aktivitas in jadwal:\n",
        "            total += durasi[aktivitas]\n",
        "        return total\n",
        "\n",
        "    jadwalSudah = []  # Menyimpan aktivitas yang telah terjadwal\n",
        "    aktivitasBelum = aktivitas[:]  # Menyimpan aktivitas yang belum terjadwal\n",
        "    jadwalTerbaik = None\n",
        "\n",
        "    waktuMulai = time.time()  # Catat waktu mulai\n",
        "\n",
        "    # Panggil fungsi backtracking untuk mencari solusi terbaik\n",
        "    backtracking(jadwalSudah, aktivitasBelum)\n",
        "\n",
        "    waktuSelesai = time.time()  # Catat waktu selesai\n",
        "    lamaEksekusi = waktuSelesai - waktuMulai  # Lama waktu eksekusi\n",
        "\n",
        "    return jadwalTerbaik, lamaEksekusi\n",
        "\n",
        "# Inisialisasi data aktivitas, durasi, dan ketergantungan\n",
        "aktivitas = ['A', 'B', 'C', 'D', 'E', 'F', 'G', 'H']\n",
        "durasi = {'A': 4, 'B': 5, 'C': 2, 'D': 3, 'E': 6, 'F': 4, 'G': 2, 'H': 3}\n",
        "ketergantungan = {'B': ['A'], 'C': ['A'], 'D': ['B', 'C'], 'E': ['D'], 'F': ['D'], 'G': ['F'], 'H': ['E', 'G']}\n",
        "\n",
        "# Panggil fungsi JadwalProyekBB untuk mendapatkan jadwal penyelesaian proyek dan lama waktu eksekusi\n",
        "jadwalTerbaik, lamaEksekusi = JadwalProyekBB(aktivitas, durasi, ketergantungan)\n",
        "\n",
        "# Tampilkan hasil jadwal penyelesaian proyek dan lama waktu eksekusi\n",
        "print(\"Jadwal Penyelesaian Proyek B&B:\")\n",
        "print(jadwalTerbaik)\n",
        "print(\"Lama waktu eksekusi:\", lamaEksekusi, \"detik\")\n"
      ],
      "metadata": {
        "colab": {
          "base_uri": "https://localhost:8080/"
        },
        "id": "L60Cx3HeOsUG",
        "outputId": "b64cf3fb-9e58-4dab-d2c5-ef38f5c2b4be"
      },
      "execution_count": 11,
      "outputs": [
        {
          "output_type": "stream",
          "name": "stdout",
          "text": [
            "Jadwal Penyelesaian Proyek B&B:\n",
            "['A', 'B', 'C', 'D', 'E', 'F', 'G', 'H']\n",
            "Lama waktu eksekusi: 9.036064147949219e-05 detik\n"
          ]
        }
      ]
    }
  ]
}